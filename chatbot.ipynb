{
  "nbformat": 4,
  "nbformat_minor": 0,
  "metadata": {
    "colab": {
      "provenance": []
    },
    "kernelspec": {
      "name": "python3",
      "display_name": "Python 3"
    },
    "language_info": {
      "name": "python"
    }
  },
  "cells": [
    {
      "cell_type": "code",
      "execution_count": null,
      "metadata": {
        "id": "slzAVelfsDI3"
      },
      "outputs": [],
      "source": [
        "import pickle\n",
        "import numpy as np"
      ]
    },
    {
      "cell_type": "code",
      "source": [
        "with open(\"train_qa.txt\",\"rb\") as fp:\n",
        "  train_data = pickle.load(fp)"
      ],
      "metadata": {
        "id": "1idmAsulsK2j"
      },
      "execution_count": null,
      "outputs": []
    },
    {
      "cell_type": "code",
      "source": [
        "train_data"
      ],
      "metadata": {
        "id": "QJ5fLoHEs4o0"
      },
      "execution_count": null,
      "outputs": []
    },
    {
      "cell_type": "code",
      "source": [
        "with open(\"test_qa.txt\",\"rb\") as fp:\n",
        "  test_data = pickle.load(fp)"
      ],
      "metadata": {
        "id": "md48qibntrnR"
      },
      "execution_count": null,
      "outputs": []
    },
    {
      "cell_type": "code",
      "source": [
        "test_data"
      ],
      "metadata": {
        "id": "m5ehKPTFuKQr"
      },
      "execution_count": null,
      "outputs": []
    },
    {
      "cell_type": "code",
      "source": [
        "type (test_data)"
      ],
      "metadata": {
        "id": "CzlaZVfauZXS"
      },
      "execution_count": null,
      "outputs": []
    },
    {
      "cell_type": "code",
      "source": [
        "type(train_data)"
      ],
      "metadata": {
        "id": "h12_qdcmug1h"
      },
      "execution_count": null,
      "outputs": []
    },
    {
      "cell_type": "code",
      "source": [
        "len(test_data)"
      ],
      "metadata": {
        "id": "C6Dvvjh9usBE"
      },
      "execution_count": null,
      "outputs": []
    },
    {
      "cell_type": "code",
      "source": [
        "len(train_data)"
      ],
      "metadata": {
        "id": "Hg3KgDbFuwOQ"
      },
      "execution_count": null,
      "outputs": []
    },
    {
      "cell_type": "code",
      "source": [
        "train_data[0][2]"
      ],
      "metadata": {
        "id": "kV30IWdJuz99"
      },
      "execution_count": null,
      "outputs": []
    },
    {
      "cell_type": "code",
      "source": [
        "vocab=set()"
      ],
      "metadata": {
        "id": "l1f36rNnvSgA"
      },
      "execution_count": null,
      "outputs": []
    },
    {
      "cell_type": "code",
      "source": [
        "all_data = test_data + train_data"
      ],
      "metadata": {
        "id": "wNGyVU8XvaDz"
      },
      "execution_count": null,
      "outputs": []
    },
    {
      "cell_type": "code",
      "source": [
        "for story, question, answer in all_data:\n",
        "  vocab = vocab.union(set(story))\n",
        "  vocab = vocab.union(set(question))"
      ],
      "metadata": {
        "id": "mCt8enqQvkd1"
      },
      "execution_count": null,
      "outputs": []
    },
    {
      "cell_type": "code",
      "source": [
        "vocab.add('yes')\n",
        "vocab.add('no')"
      ],
      "metadata": {
        "id": "FF1ZB_gpv4-T"
      },
      "execution_count": null,
      "outputs": []
    },
    {
      "cell_type": "code",
      "source": [
        "len(vocab)"
      ],
      "metadata": {
        "id": "HGBCSyCZwHGl"
      },
      "execution_count": null,
      "outputs": []
    },
    {
      "cell_type": "code",
      "source": [
        "max_story_len = max([len(data[0])for data in all_data])\n",
        "max_story_len"
      ],
      "metadata": {
        "id": "ZPOvxx4rwLJ2"
      },
      "execution_count": null,
      "outputs": []
    },
    {
      "cell_type": "code",
      "source": [
        "max_ques_len = max([len(data[1])for data in all_data])\n",
        "max_story_len"
      ],
      "metadata": {
        "id": "aqhCFMSmwjkY"
      },
      "execution_count": null,
      "outputs": []
    },
    {
      "cell_type": "code",
      "source": [
        "pip install Keras-Preprocessing"
      ],
      "metadata": {
        "id": "cQQHnnLpxuUq"
      },
      "execution_count": null,
      "outputs": []
    },
    {
      "cell_type": "code",
      "source": [
        "from keras.preprocessing.sequence import pad_sequences\n",
        "from keras.preprocessing.text import Tokenizer"
      ],
      "metadata": {
        "id": "eHxMhBqowu29"
      },
      "execution_count": null,
      "outputs": []
    },
    {
      "cell_type": "code",
      "source": [
        "tokenizer = Tokenizer(filters=[])"
      ],
      "metadata": {
        "id": "zS9xFUCfzxDy"
      },
      "execution_count": null,
      "outputs": []
    },
    {
      "cell_type": "code",
      "source": [
        "tokenizer.fit_on_texts(vocab)"
      ],
      "metadata": {
        "id": "C7XLkWtKz6zq"
      },
      "execution_count": null,
      "outputs": []
    },
    {
      "cell_type": "code",
      "source": [
        "tokenizer.word_index"
      ],
      "metadata": {
        "id": "hPttK9h-0Ej4"
      },
      "execution_count": null,
      "outputs": []
    },
    {
      "cell_type": "code",
      "source": [
        "#train dataset\n",
        "train_story_text = []\n",
        "train_question_text= []\n",
        "train_answers = []\n",
        "\n",
        "for story , question,answer in train_data:\n",
        "  train_story_text.append(story)\n",
        "  train_question_text.append(question)"
      ],
      "metadata": {
        "id": "60aFGXa70MS9"
      },
      "execution_count": null,
      "outputs": []
    },
    {
      "cell_type": "code",
      "source": [
        "train_story_seq = tokenizer.texts_to_sequences(train_story_text)"
      ],
      "metadata": {
        "id": "XiR81KhO043X"
      },
      "execution_count": null,
      "outputs": []
    },
    {
      "cell_type": "code",
      "source": [
        "train_story_seq"
      ],
      "metadata": {
        "id": "OT5eDl1n1osY"
      },
      "execution_count": null,
      "outputs": []
    },
    {
      "cell_type": "code",
      "source": [
        "def vectorize_stories(data, word_index = tokenizer.word_index,\n",
        "                      max_story_len = max_story_len,max_ques_len = max_ques_len):\n",
        "\n",
        " X=[]\n",
        " Xq =[]\n",
        " Y=[]\n",
        "\n",
        "for story, ques, ans in data:\n",
        "    x= [word_index[word.lower()]for word in story]\n",
        "    xq= [word_index[word.lower()]for word in ques]\n",
        "    y = np.zeroes(len(word_index)+1)\n",
        "    y[word_index[ans]] = 1\n",
        "\n",
        "    X.append(x)\n",
        "    Xq.append(xq)\n",
        "    Y.append(y)\n",
        "\n",
        "return (pad_sequences(X,max_len=max_story_len),\n",
        "        pad_sequences(Xq,max_len=max_ques_len),\n",
        "        np.array(Y))"
      ],
      "metadata": {
        "id": "uQABmGXV1tYh"
      },
      "execution_count": null,
      "outputs": []
    },
    {
      "cell_type": "code",
      "source": [
        "inputs_train, queries_train ,answers_train = vectorize_stories(train_data)"
      ],
      "metadata": {
        "colab": {
          "base_uri": "https://localhost:8080/",
          "height": 169
        },
        "id": "SBkhPNTb4fcW",
        "outputId": "07eccacd-7fb6-4025-a1e1-95991583b598"
      },
      "execution_count": null,
      "outputs": [
        {
          "output_type": "error",
          "ename": "TypeError",
          "evalue": "ignored",
          "traceback": [
            "\u001b[0;31m---------------------------------------------------------------------------\u001b[0m",
            "\u001b[0;31mTypeError\u001b[0m                                 Traceback (most recent call last)",
            "\u001b[0;32m<ipython-input-43-32d8c59d9d6b>\u001b[0m in \u001b[0;36m<module>\u001b[0;34m\u001b[0m\n\u001b[0;32m----> 1\u001b[0;31m \u001b[0minputs_train\u001b[0m\u001b[0;34m,\u001b[0m \u001b[0mqueries_train\u001b[0m \u001b[0;34m,\u001b[0m\u001b[0manswers_train\u001b[0m \u001b[0;34m=\u001b[0m \u001b[0mvectorize_stories\u001b[0m\u001b[0;34m(\u001b[0m\u001b[0mtrain_data\u001b[0m\u001b[0;34m)\u001b[0m\u001b[0;34m\u001b[0m\u001b[0;34m\u001b[0m\u001b[0m\n\u001b[0m",
            "\u001b[0;31mTypeError\u001b[0m: cannot unpack non-iterable NoneType object"
          ]
        }
      ]
    },
    {
      "cell_type": "code",
      "source": [
        "inputs_train"
      ],
      "metadata": {
        "id": "YxYBP34j4-X3"
      },
      "execution_count": null,
      "outputs": []
    },
    {
      "cell_type": "code",
      "source": [
        "inputs_test, queries_test,answers_test = vectorize_stories(test_data)"
      ],
      "metadata": {
        "id": "LwY7tZVM5m74"
      },
      "execution_count": null,
      "outputs": []
    },
    {
      "cell_type": "code",
      "source": [
        "vocab_len = len(vocab) + 1"
      ],
      "metadata": {
        "id": "aFi94yAi6s2G"
      },
      "execution_count": null,
      "outputs": []
    },
    {
      "cell_type": "code",
      "source": [
        "from keras.models import Sequential, Model\n",
        "from keras.layers.embeddings import Embedding\n",
        "from keras.layeyrs import Input , Activation , Dense, Permute, Dropout, add, dot, concatenate, LSTM"
      ],
      "metadata": {
        "id": "skGc6PAz6wL7"
      },
      "execution_count": null,
      "outputs": []
    },
    {
      "cell_type": "code",
      "source": [
        "input_sequence = Input((max_story_len,))\n",
        "question = Input((max_ques_len,))"
      ],
      "metadata": {
        "id": "lZaCR3ic809b"
      },
      "execution_count": null,
      "outputs": []
    },
    {
      "cell_type": "code",
      "source": [
        "input_encoder_m = Sequential()\n",
        "input_encoder_m.add(Embedding(input_dim=vocab_len, output_dim=64))\n",
        "input_encoder_m.add(Dropout(0.3))"
      ],
      "metadata": {
        "id": "Ks0g4e3M902N"
      },
      "execution_count": null,
      "outputs": []
    },
    {
      "cell_type": "code",
      "source": [
        "input_encoder_c = Sequential()\n",
        "input_encoder_c.add(Embedding(input_dim=vocab_len, output_dim=max_ques_len))\n",
        "input_encoder_c.add(Dropout(0.3))"
      ],
      "metadata": {
        "id": "eT-3RslA-O46"
      },
      "execution_count": null,
      "outputs": []
    },
    {
      "cell_type": "code",
      "source": [
        "ques_encoder = Sequential()\n",
        "ques_encoder.add(Embedding(input_dim= vocab_len, output_dim = 64,input_length=max_ques_length))\n",
        "ques_encoder.add(Dropout(0.3))"
      ],
      "metadata": {
        "id": "5CPVNVNL_EMJ"
      },
      "execution_count": null,
      "outputs": []
    },
    {
      "cell_type": "code",
      "source": [
        "input_encoded_m = input_encoded(input_sequence)\n",
        "input_encoded_c = input_encoder_c(question)\n",
        "ques_encoded = ques_encoder(question)"
      ],
      "metadata": {
        "id": "eRk_eUvw-iTQ"
      },
      "execution_count": null,
      "outputs": []
    },
    {
      "cell_type": "code",
      "source": [
        "from keras.layers.core.activation import Activation\n",
        "match = dot([input_encoded_m,question_encoded], axes =(2,2))\n",
        "match = Activation ('softmax')(match)"
      ],
      "metadata": {
        "id": "pc4T2DKz_wu1"
      },
      "execution_count": null,
      "outputs": []
    },
    {
      "cell_type": "code",
      "source": [
        "response = add([match, input_encoded_c])\n",
        "response = permute((2,1))(response)"
      ],
      "metadata": {
        "id": "5RXS5ZGKBILs"
      },
      "execution_count": null,
      "outputs": []
    },
    {
      "cell_type": "code",
      "source": [
        "answer = concatenate([response, question_encoded])"
      ],
      "metadata": {
        "id": "QoY-LGmVBc03"
      },
      "execution_count": null,
      "outputs": []
    },
    {
      "cell_type": "code",
      "source": [
        "from keras.layers.rnn.lstm_v1 import LSTM\n",
        "answer = LSTM(32)(answer)"
      ],
      "metadata": {
        "id": "8pYePNScBjDg"
      },
      "execution_count": null,
      "outputs": []
    },
    {
      "cell_type": "code",
      "source": [
        "answer=Dropout(0.5)(answer)\n",
        "answer= Dense(vocab_len)(answer)"
      ],
      "metadata": {
        "id": "GgbhOR4dBuCV"
      },
      "execution_count": null,
      "outputs": []
    },
    {
      "cell_type": "code",
      "source": [
        "answer = Activation('softmax')(answer)"
      ],
      "metadata": {
        "id": "6sLeYZTZB9cm"
      },
      "execution_count": null,
      "outputs": []
    },
    {
      "cell_type": "code",
      "source": [
        "model = Model([input_sequence, question],answer)\n",
        "model.compilr(optimizer = 'rmsprop', loss= 'categorical_crossentrophy', metrices =['accuracy'])"
      ],
      "metadata": {
        "id": "n7xsem8UCEkg"
      },
      "execution_count": null,
      "outputs": []
    },
    {
      "cell_type": "code",
      "source": [
        "model.summary()"
      ],
      "metadata": {
        "id": "aiwKLbzWCiTT"
      },
      "execution_count": null,
      "outputs": []
    },
    {
      "cell_type": "code",
      "source": [
        "history = model.fit([inputs_train,queries_train], answers_train,\n",
        "                    batch_size=30, epochs = 22,\n",
        "                    validation_data =([inputs_test,queries_test],answers_test)\n",
        "                    )"
      ],
      "metadata": {
        "id": "-RZb3peYCoea"
      },
      "execution_count": null,
      "outputs": []
    },
    {
      "cell_type": "code",
      "source": [
        "import matplotlib.pyplot as plt\n",
        "print(history.history.keys())\n",
        "plt.plot(history.history['val_accuracy'])\n",
        "plt.title(\"Model Accuracy\")\n",
        "plt.ylabel(\"Accuracy\")\n",
        "plt.xlabel(\"epochs\")"
      ],
      "metadata": {
        "id": "BDPt64BYDUI4"
      },
      "execution_count": null,
      "outputs": []
    },
    {
      "cell_type": "code",
      "source": [
        "model.save(\"chatbot_model\")"
      ],
      "metadata": {
        "id": "-Dgj7yrWD0as"
      },
      "execution_count": null,
      "outputs": []
    },
    {
      "cell_type": "code",
      "source": [
        "model.load_weights(\"chatbot_model\")"
      ],
      "metadata": {
        "id": "QkDjgj2GEE9a"
      },
      "execution_count": null,
      "outputs": []
    },
    {
      "cell_type": "code",
      "source": [
        "pred_results= model.predict(([inputs_test, queries_test]))"
      ],
      "metadata": {
        "id": "uTcLsHMbEPOn"
      },
      "execution_count": null,
      "outputs": []
    },
    {
      "cell_type": "code",
      "source": [
        "pred_resultls"
      ],
      "metadata": {
        "id": "MEzonuD9EcX6"
      },
      "execution_count": null,
      "outputs": []
    },
    {
      "cell_type": "code",
      "source": [
        "test_data[0][0]"
      ],
      "metadata": {
        "id": "aPg7nEj0Eedv"
      },
      "execution_count": null,
      "outputs": []
    },
    {
      "cell_type": "code",
      "source": [
        "story = ' '.join(word for word in test_data[100][0])"
      ],
      "metadata": {
        "id": "DBBhOB-2EjkN"
      },
      "execution_count": null,
      "outputs": []
    },
    {
      "cell_type": "code",
      "source": [
        "story"
      ],
      "metadata": {
        "id": "rGA5at5_Ez4-"
      },
      "execution_count": null,
      "outputs": []
    },
    {
      "cell_type": "code",
      "source": [
        "query = ' '.join(word for word in test_data[100][1])"
      ],
      "metadata": {
        "id": "QGX1QBx0E09e"
      },
      "execution_count": null,
      "outputs": []
    },
    {
      "cell_type": "code",
      "source": [
        "query"
      ],
      "metadata": {
        "id": "mmGdVuA5E7l-"
      },
      "execution_count": null,
      "outputs": []
    },
    {
      "cell_type": "code",
      "source": [
        "test_data[100][2]"
      ],
      "metadata": {
        "id": "QKbeh18EE8xY"
      },
      "execution_count": null,
      "outputs": []
    },
    {
      "cell_type": "code",
      "source": [
        "val_max = np.argmax(pred_results[37])\n",
        "\n",
        "for key, val in tokenizer,word_index.items():\n",
        "  if val==val_max:\n",
        "    k=key\n",
        "\n",
        "    print(\"Predicted answer is \",k)\n",
        "    print(\"Probability of certainity\",pred_results[37][val_max])"
      ],
      "metadata": {
        "id": "z74vXFTjFDU3"
      },
      "execution_count": null,
      "outputs": []
    }
  ]
}